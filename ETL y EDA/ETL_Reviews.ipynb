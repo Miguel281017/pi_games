{
 "cells": [
  {
   "cell_type": "code",
   "execution_count": 1,
   "metadata": {},
   "outputs": [],
   "source": [
    "import pandas as pd\n",
    "import numpy as np\n",
    "import json\n",
    "import ast\n",
    "from datetime import datetime"
   ]
  },
  {
   "cell_type": "code",
   "execution_count": 2,
   "metadata": {},
   "outputs": [],
   "source": [
    "import nltk\n",
    "from nltk.tokenize import word_tokenize\n",
    "from nltk.stem import PorterStemmer\n",
    "import re"
   ]
  },
  {
   "cell_type": "code",
   "execution_count": 3,
   "metadata": {},
   "outputs": [
    {
     "name": "stderr",
     "output_type": "stream",
     "text": [
      "[nltk_data] Downloading package punkt to\n",
      "[nltk_data]     C:\\Users\\Usuario\\AppData\\Roaming\\nltk_data...\n",
      "[nltk_data]   Package punkt is already up-to-date!\n",
      "[nltk_data] Downloading package stopwords to\n",
      "[nltk_data]     C:\\Users\\Usuario\\AppData\\Roaming\\nltk_data...\n",
      "[nltk_data]   Package stopwords is already up-to-date!\n"
     ]
    },
    {
     "data": {
      "text/plain": [
       "True"
      ]
     },
     "execution_count": 3,
     "metadata": {},
     "output_type": "execute_result"
    }
   ],
   "source": [
    "nltk.download('punkt')\n",
    "nltk.download('stopwords')"
   ]
  },
  {
   "cell_type": "markdown",
   "metadata": {},
   "source": [
    "nos concentramos en el archivo australian_user_reviews.json"
   ]
  },
  {
   "cell_type": "code",
   "execution_count": 24,
   "metadata": {},
   "outputs": [],
   "source": [
    "rows = []\n",
    "\n",
    "with open (r'json_originales\\australian_user_reviews.json', encoding='MacRoman') as f:\n",
    "    for line in f.readlines():\n",
    "        rows.append(ast.literal_eval(line))\n",
    "\n",
    "reviews = pd.DataFrame(rows)"
   ]
  },
  {
   "cell_type": "markdown",
   "metadata": {},
   "source": [
    "Este código realiza una operación de desanidación de datos en del DataFrame llamado reviews"
   ]
  },
  {
   "cell_type": "code",
   "execution_count": 25,
   "metadata": {},
   "outputs": [],
   "source": [
    "# Creamos una nueva lista para almacenar los datos desanidados\n",
    "data_desanidada = []\n",
    "\n",
    "# Recorremos cada fila del DataFrame\n",
    "for index, row in reviews.iterrows():\n",
    "    user_id = row['user_id']\n",
    "    user_url = row['user_url']\n",
    "    reviews = row['reviews']\n",
    "    \n",
    "    # Recorremos cada diccionario en la lista de reviews\n",
    "    for r in reviews:   \n",
    "        new_row = {\n",
    "        'user_id': user_id,\n",
    "        'user_url': user_url,\n",
    "        'posted': r.get('posted', ''),\n",
    "        'item_id': r.get('item_id', ''),\n",
    "        'recommend': r.get('recommend', ''),\n",
    "        'review': r.get('review', '')}\n",
    "        \n",
    "        data_desanidada.append(new_row)\n",
    "\n",
    "# Creamos un nuevo DataFrame con los datos desanidados\n",
    "reviews_desanidado = pd.DataFrame(data_desanidada)\n",
    "\n",
    "# Ahora df_r_desanidado contiene las columnas 'user_id' y 'user_url' repetidas en los casos necesarios\n",
    "# junto con los datos desanidados de las reviews"
   ]
  },
  {
   "cell_type": "markdown",
   "metadata": {},
   "source": [
    "Se cambian las recomendaciones de \"True\" a 1 y de \"False\" a 0."
   ]
  },
  {
   "cell_type": "code",
   "execution_count": 26,
   "metadata": {},
   "outputs": [],
   "source": [
    "reviews_desanidado.recommend = reviews_desanidado.recommend.astype(int)"
   ]
  },
  {
   "cell_type": "markdown",
   "metadata": {},
   "source": [
    "\n",
    "Se convierte la columna 'item_id' a tipo de dato entero (int)."
   ]
  },
  {
   "cell_type": "code",
   "execution_count": 27,
   "metadata": {},
   "outputs": [],
   "source": [
    "reviews_desanidado.item_id = reviews_desanidado.item_id.astype(int)"
   ]
  },
  {
   "cell_type": "markdown",
   "metadata": {},
   "source": [
    "\n",
    "Se elimina la palabra \"Posted\" de la columna \"posted\" para que los valores puedan ser convertidos a formato de fecha. Luego, se convierte la columna \"posted\" a tipo de dato datetime."
   ]
  },
  {
   "cell_type": "code",
   "execution_count": 28,
   "metadata": {},
   "outputs": [],
   "source": [
    "# Convierto la columna 'posted' a tipo cadena\n",
    "reviews_desanidado['posted'] = reviews_desanidado['posted'].astype(str)\n",
    "# Realizo el reemplazo\n",
    "reviews_desanidado['posted'] = reviews_desanidado['posted'].str.replace('Posted ', '')\n",
    "# Convierto los valores a tipo date\n",
    "reviews_desanidado['posted'] = pd.to_datetime(reviews_desanidado['posted'], errors='coerce')"
   ]
  },
  {
   "cell_type": "markdown",
   "metadata": {},
   "source": [
    "Análisis de Sentimientos"
   ]
  },
  {
   "cell_type": "code",
   "execution_count": 29,
   "metadata": {},
   "outputs": [],
   "source": [
    "reviews_desanidado['review'] = reviews_desanidado['review'].astype(str) # Pasamos a str todos los valores de columna review"
   ]
  },
  {
   "cell_type": "markdown",
   "metadata": {},
   "source": [
    "Se crea un conjunto de stopwords clásico al que se añaden palabras que se encuentran en igual proporción en recomendaciones positivas y negativas, y que no aportan valor para diferenciar entre categorías."
   ]
  },
  {
   "cell_type": "code",
   "execution_count": 30,
   "metadata": {},
   "outputs": [],
   "source": [
    "stopwords = nltk.corpus.stopwords.words('english')\n",
    "palabras_redundantes = [\"game\", \"play\", \"make\", \"good\", \"hour\", \"ô\", \"ñë\", \"like\", \"get\", \"æ\", \"10\",\n",
    "                    \"µ\", \"one\", \"would\", \"time\", \"really\", \"å\", \"fun\", \"games\", \"much\"]\n",
    "stopwords.extend(palabras_redundantes)"
   ]
  },
  {
   "cell_type": "code",
   "execution_count": 31,
   "metadata": {},
   "outputs": [],
   "source": [
    "# Recorremos todos los review y le aplicamos la Normalizacion a cada uno\n",
    "review_list=[]\n",
    "for review in reviews_desanidado.review:\n",
    "    #Sacamos signos de puntuación\n",
    "    review = re.sub(r'[.,;¡¿?!]', ' ', review)\n",
    "    #Pasamos a minúsculas\n",
    "    review = review.lower()\n",
    "    #Separamos cada palabra de review\n",
    "    review = word_tokenize(review)\n",
    "    #Sacamos stopwords\n",
    "    review = [palabra for palabra in review if not palabra in stopwords]\n",
    "    # Por ultimo volvemos a unir el review\n",
    "    review=\" \".join(review)\n",
    "\n",
    "    # Armamos una lista con todos los review\n",
    "    review_list.append(review)\n",
    "\n",
    "# Demora 30s"
   ]
  },
  {
   "cell_type": "markdown",
   "metadata": {},
   "source": [
    "Se crea una columna llamada \"review_normalizado\" en la que se almacenarán las reseñas después de pasar por el proceso de normalización. La columna \"review\" será utilizada para categorizar el análisis de sentimiento."
   ]
  },
  {
   "cell_type": "code",
   "execution_count": 32,
   "metadata": {},
   "outputs": [],
   "source": [
    "reviews_desanidado['review_normalizado'] = review_list\n",
    "reviews_desanidado['review'] = 1"
   ]
  },
  {
   "cell_type": "markdown",
   "metadata": {},
   "source": [
    "Después de analizar cuáles son las palabras utilizadas en recomendaciones negativas y positivas, se crean dos listas y se utilizan para el análisis."
   ]
  },
  {
   "cell_type": "markdown",
   "metadata": {},
   "source": [
    "La siguiente lista se puede agrandar para tener un análisis más exhaustivo y personalizado con conocimiento del negocio, incluso incluir distintos idiomas"
   ]
  },
  {
   "cell_type": "code",
   "execution_count": 33,
   "metadata": {},
   "outputs": [],
   "source": [
    "palabras_positivas = ['π', 'îä', 'great', 'πç', 'best', '3', 'πà', 'amazing', 'πä', 'love', 'ö', 'awesome']\n",
    "palabras_negativas = ['bad', 'even', 'ç', 'ω', 'buy', 'õ', 'ä', 'ã', 'want', 'people', 'new', '1']"
   ]
  },
  {
   "cell_type": "markdown",
   "metadata": {},
   "source": [
    "Se le suma 1 punto al review por cada palabra de la lista positiva, se le resta 1 punto por cada palabra de la lista negativa"
   ]
  },
  {
   "cell_type": "code",
   "execution_count": null,
   "metadata": {},
   "outputs": [],
   "source": [
    "for ind, r in enumerate(reviews_desanidado.review_normalizado):\n",
    "    #Separamos cada palabra de review\n",
    "    r = word_tokenize(r)\n",
    "    for nro in range(len(r)):\n",
    "        if r[nro] in palabras_positivas:\n",
    "            reviews_desanidado.review.iloc[ind] += 1\n",
    "        elif r[nro] in palabras_negativas:\n",
    "            reviews_desanidado.review.iloc[ind] -= 1\n",
    "    "
   ]
  },
  {
   "cell_type": "markdown",
   "metadata": {},
   "source": [
    "Se categoriza el sentimiento analizado: negativo = 0, neutral = 1 y positivo = 2"
   ]
  },
  {
   "cell_type": "code",
   "execution_count": 35,
   "metadata": {},
   "outputs": [],
   "source": [
    "for i in range(len(reviews_desanidado)):\n",
    "    if reviews_desanidado.loc[i, 'review'] >= 1:\n",
    "        reviews_desanidado.loc[i, 'review'] = 2\n",
    "    elif -1 < reviews_desanidado.loc[i, 'review'] < 1:\n",
    "        reviews_desanidado.loc[i, 'review'] = 1\n",
    "    else:\n",
    "        reviews_desanidado.loc[i, 'review'] = 0\n",
    "\n",
    "# Demora 20s"
   ]
  },
  {
   "cell_type": "markdown",
   "metadata": {},
   "source": [
    "Nos quedamos únicamente con las columnas que utilizaremos"
   ]
  },
  {
   "cell_type": "code",
   "execution_count": 36,
   "metadata": {},
   "outputs": [
    {
     "data": {
      "text/html": [
       "<div>\n",
       "<style scoped>\n",
       "    .dataframe tbody tr th:only-of-type {\n",
       "        vertical-align: middle;\n",
       "    }\n",
       "\n",
       "    .dataframe tbody tr th {\n",
       "        vertical-align: top;\n",
       "    }\n",
       "\n",
       "    .dataframe thead th {\n",
       "        text-align: right;\n",
       "    }\n",
       "</style>\n",
       "<table border=\"1\" class=\"dataframe\">\n",
       "  <thead>\n",
       "    <tr style=\"text-align: right;\">\n",
       "      <th></th>\n",
       "      <th>user_id</th>\n",
       "      <th>user_url</th>\n",
       "      <th>posted</th>\n",
       "      <th>item_id</th>\n",
       "      <th>recommend</th>\n",
       "      <th>review</th>\n",
       "      <th>review_normalizado</th>\n",
       "    </tr>\n",
       "  </thead>\n",
       "  <tbody>\n",
       "    <tr>\n",
       "      <th>0</th>\n",
       "      <td>76561197970982479</td>\n",
       "      <td>http://steamcommunity.com/profiles/76561197970...</td>\n",
       "      <td>2011-11-05</td>\n",
       "      <td>1250</td>\n",
       "      <td>1</td>\n",
       "      <td>2</td>\n",
       "      <td>simple yet great replayability opinion `` zomb...</td>\n",
       "    </tr>\n",
       "    <tr>\n",
       "      <th>1</th>\n",
       "      <td>76561197970982479</td>\n",
       "      <td>http://steamcommunity.com/profiles/76561197970...</td>\n",
       "      <td>2011-07-15</td>\n",
       "      <td>22200</td>\n",
       "      <td>1</td>\n",
       "      <td>2</td>\n",
       "      <td>'s unique worth playthrough</td>\n",
       "    </tr>\n",
       "    <tr>\n",
       "      <th>2</th>\n",
       "      <td>76561197970982479</td>\n",
       "      <td>http://steamcommunity.com/profiles/76561197970...</td>\n",
       "      <td>2011-04-21</td>\n",
       "      <td>43110</td>\n",
       "      <td>1</td>\n",
       "      <td>2</td>\n",
       "      <td>great atmosphere gunplay bit chunky times end ...</td>\n",
       "    </tr>\n",
       "    <tr>\n",
       "      <th>3</th>\n",
       "      <td>js41637</td>\n",
       "      <td>http://steamcommunity.com/id/js41637</td>\n",
       "      <td>2014-06-24</td>\n",
       "      <td>251610</td>\n",
       "      <td>1</td>\n",
       "      <td>1</td>\n",
       "      <td>know think see title `` barbie dreamhouse part...</td>\n",
       "    </tr>\n",
       "    <tr>\n",
       "      <th>4</th>\n",
       "      <td>js41637</td>\n",
       "      <td>http://steamcommunity.com/id/js41637</td>\n",
       "      <td>2013-09-08</td>\n",
       "      <td>227300</td>\n",
       "      <td>1</td>\n",
       "      <td>1</td>\n",
       "      <td>simple ( 's actually simple ) truck driving si...</td>\n",
       "    </tr>\n",
       "    <tr>\n",
       "      <th>...</th>\n",
       "      <td>...</td>\n",
       "      <td>...</td>\n",
       "      <td>...</td>\n",
       "      <td>...</td>\n",
       "      <td>...</td>\n",
       "      <td>...</td>\n",
       "      <td>...</td>\n",
       "    </tr>\n",
       "    <tr>\n",
       "      <th>59300</th>\n",
       "      <td>76561198312638244</td>\n",
       "      <td>http://steamcommunity.com/profiles/76561198312...</td>\n",
       "      <td>NaT</td>\n",
       "      <td>70</td>\n",
       "      <td>1</td>\n",
       "      <td>2</td>\n",
       "      <td>must classic steam definitely worth buying</td>\n",
       "    </tr>\n",
       "    <tr>\n",
       "      <th>59301</th>\n",
       "      <td>76561198312638244</td>\n",
       "      <td>http://steamcommunity.com/profiles/76561198312...</td>\n",
       "      <td>NaT</td>\n",
       "      <td>362890</td>\n",
       "      <td>1</td>\n",
       "      <td>2</td>\n",
       "      <td>perfect remake original half life personally b...</td>\n",
       "    </tr>\n",
       "    <tr>\n",
       "      <th>59302</th>\n",
       "      <td>LydiaMorley</td>\n",
       "      <td>http://steamcommunity.com/id/LydiaMorley</td>\n",
       "      <td>NaT</td>\n",
       "      <td>273110</td>\n",
       "      <td>1</td>\n",
       "      <td>2</td>\n",
       "      <td>plaing collecting resources xd first try kille...</td>\n",
       "    </tr>\n",
       "    <tr>\n",
       "      <th>59303</th>\n",
       "      <td>LydiaMorley</td>\n",
       "      <td>http://steamcommunity.com/id/LydiaMorley</td>\n",
       "      <td>NaT</td>\n",
       "      <td>730</td>\n",
       "      <td>1</td>\n",
       "      <td>2</td>\n",
       "      <td>:</td>\n",
       "    </tr>\n",
       "    <tr>\n",
       "      <th>59304</th>\n",
       "      <td>LydiaMorley</td>\n",
       "      <td>http://steamcommunity.com/id/LydiaMorley</td>\n",
       "      <td>NaT</td>\n",
       "      <td>440</td>\n",
       "      <td>1</td>\n",
       "      <td>2</td>\n",
       "      <td>:</td>\n",
       "    </tr>\n",
       "  </tbody>\n",
       "</table>\n",
       "<p>59305 rows × 7 columns</p>\n",
       "</div>"
      ],
      "text/plain": [
       "                 user_id                                           user_url  \\\n",
       "0      76561197970982479  http://steamcommunity.com/profiles/76561197970...   \n",
       "1      76561197970982479  http://steamcommunity.com/profiles/76561197970...   \n",
       "2      76561197970982479  http://steamcommunity.com/profiles/76561197970...   \n",
       "3                js41637               http://steamcommunity.com/id/js41637   \n",
       "4                js41637               http://steamcommunity.com/id/js41637   \n",
       "...                  ...                                                ...   \n",
       "59300  76561198312638244  http://steamcommunity.com/profiles/76561198312...   \n",
       "59301  76561198312638244  http://steamcommunity.com/profiles/76561198312...   \n",
       "59302        LydiaMorley           http://steamcommunity.com/id/LydiaMorley   \n",
       "59303        LydiaMorley           http://steamcommunity.com/id/LydiaMorley   \n",
       "59304        LydiaMorley           http://steamcommunity.com/id/LydiaMorley   \n",
       "\n",
       "          posted  item_id  recommend  review  \\\n",
       "0     2011-11-05     1250          1       2   \n",
       "1     2011-07-15    22200          1       2   \n",
       "2     2011-04-21    43110          1       2   \n",
       "3     2014-06-24   251610          1       1   \n",
       "4     2013-09-08   227300          1       1   \n",
       "...          ...      ...        ...     ...   \n",
       "59300        NaT       70          1       2   \n",
       "59301        NaT   362890          1       2   \n",
       "59302        NaT   273110          1       2   \n",
       "59303        NaT      730          1       2   \n",
       "59304        NaT      440          1       2   \n",
       "\n",
       "                                      review_normalizado  \n",
       "0      simple yet great replayability opinion `` zomb...  \n",
       "1                            's unique worth playthrough  \n",
       "2      great atmosphere gunplay bit chunky times end ...  \n",
       "3      know think see title `` barbie dreamhouse part...  \n",
       "4      simple ( 's actually simple ) truck driving si...  \n",
       "...                                                  ...  \n",
       "59300         must classic steam definitely worth buying  \n",
       "59301  perfect remake original half life personally b...  \n",
       "59302  plaing collecting resources xd first try kille...  \n",
       "59303                                                  :  \n",
       "59304                                                  :  \n",
       "\n",
       "[59305 rows x 7 columns]"
      ]
     },
     "execution_count": 36,
     "metadata": {},
     "output_type": "execute_result"
    }
   ],
   "source": [
    "reviews_desanidado"
   ]
  },
  {
   "cell_type": "code",
   "execution_count": 37,
   "metadata": {},
   "outputs": [],
   "source": [
    "reviews_desanidado = reviews_desanidado[['user_id','user_url','posted','item_id', 'recommend', 'review']]"
   ]
  },
  {
   "cell_type": "markdown",
   "metadata": {},
   "source": [
    "\n",
    "La exportación como archivo CSV del DataFrame 'reviews_desanidado' se realiza de la siguiente manera."
   ]
  },
  {
   "cell_type": "code",
   "execution_count": 41,
   "metadata": {},
   "outputs": [],
   "source": [
    "reviews_desanidado.to_csv(r'csv_ETL\\reviews_desanidado.csv', index=False)"
   ]
  },
  {
   "cell_type": "code",
   "execution_count": 39,
   "metadata": {},
   "outputs": [
    {
     "data": {
      "text/plain": [
       "(59305, 6)"
      ]
     },
     "execution_count": 39,
     "metadata": {},
     "output_type": "execute_result"
    }
   ],
   "source": [
    "reviews_desanidado.shape"
   ]
  },
  {
   "cell_type": "code",
   "execution_count": 40,
   "metadata": {},
   "outputs": [
    {
     "data": {
      "text/html": [
       "<div>\n",
       "<style scoped>\n",
       "    .dataframe tbody tr th:only-of-type {\n",
       "        vertical-align: middle;\n",
       "    }\n",
       "\n",
       "    .dataframe tbody tr th {\n",
       "        vertical-align: top;\n",
       "    }\n",
       "\n",
       "    .dataframe thead th {\n",
       "        text-align: right;\n",
       "    }\n",
       "</style>\n",
       "<table border=\"1\" class=\"dataframe\">\n",
       "  <thead>\n",
       "    <tr style=\"text-align: right;\">\n",
       "      <th></th>\n",
       "      <th>user_id</th>\n",
       "      <th>user_url</th>\n",
       "      <th>posted</th>\n",
       "      <th>item_id</th>\n",
       "      <th>recommend</th>\n",
       "      <th>review</th>\n",
       "    </tr>\n",
       "  </thead>\n",
       "  <tbody>\n",
       "    <tr>\n",
       "      <th>0</th>\n",
       "      <td>76561197970982479</td>\n",
       "      <td>http://steamcommunity.com/profiles/76561197970...</td>\n",
       "      <td>2011-11-05</td>\n",
       "      <td>1250</td>\n",
       "      <td>1</td>\n",
       "      <td>2</td>\n",
       "    </tr>\n",
       "    <tr>\n",
       "      <th>1</th>\n",
       "      <td>76561197970982479</td>\n",
       "      <td>http://steamcommunity.com/profiles/76561197970...</td>\n",
       "      <td>2011-07-15</td>\n",
       "      <td>22200</td>\n",
       "      <td>1</td>\n",
       "      <td>2</td>\n",
       "    </tr>\n",
       "    <tr>\n",
       "      <th>2</th>\n",
       "      <td>76561197970982479</td>\n",
       "      <td>http://steamcommunity.com/profiles/76561197970...</td>\n",
       "      <td>2011-04-21</td>\n",
       "      <td>43110</td>\n",
       "      <td>1</td>\n",
       "      <td>2</td>\n",
       "    </tr>\n",
       "    <tr>\n",
       "      <th>3</th>\n",
       "      <td>js41637</td>\n",
       "      <td>http://steamcommunity.com/id/js41637</td>\n",
       "      <td>2014-06-24</td>\n",
       "      <td>251610</td>\n",
       "      <td>1</td>\n",
       "      <td>1</td>\n",
       "    </tr>\n",
       "    <tr>\n",
       "      <th>4</th>\n",
       "      <td>js41637</td>\n",
       "      <td>http://steamcommunity.com/id/js41637</td>\n",
       "      <td>2013-09-08</td>\n",
       "      <td>227300</td>\n",
       "      <td>1</td>\n",
       "      <td>1</td>\n",
       "    </tr>\n",
       "    <tr>\n",
       "      <th>...</th>\n",
       "      <td>...</td>\n",
       "      <td>...</td>\n",
       "      <td>...</td>\n",
       "      <td>...</td>\n",
       "      <td>...</td>\n",
       "      <td>...</td>\n",
       "    </tr>\n",
       "    <tr>\n",
       "      <th>59300</th>\n",
       "      <td>76561198312638244</td>\n",
       "      <td>http://steamcommunity.com/profiles/76561198312...</td>\n",
       "      <td>NaT</td>\n",
       "      <td>70</td>\n",
       "      <td>1</td>\n",
       "      <td>2</td>\n",
       "    </tr>\n",
       "    <tr>\n",
       "      <th>59301</th>\n",
       "      <td>76561198312638244</td>\n",
       "      <td>http://steamcommunity.com/profiles/76561198312...</td>\n",
       "      <td>NaT</td>\n",
       "      <td>362890</td>\n",
       "      <td>1</td>\n",
       "      <td>2</td>\n",
       "    </tr>\n",
       "    <tr>\n",
       "      <th>59302</th>\n",
       "      <td>LydiaMorley</td>\n",
       "      <td>http://steamcommunity.com/id/LydiaMorley</td>\n",
       "      <td>NaT</td>\n",
       "      <td>273110</td>\n",
       "      <td>1</td>\n",
       "      <td>2</td>\n",
       "    </tr>\n",
       "    <tr>\n",
       "      <th>59303</th>\n",
       "      <td>LydiaMorley</td>\n",
       "      <td>http://steamcommunity.com/id/LydiaMorley</td>\n",
       "      <td>NaT</td>\n",
       "      <td>730</td>\n",
       "      <td>1</td>\n",
       "      <td>2</td>\n",
       "    </tr>\n",
       "    <tr>\n",
       "      <th>59304</th>\n",
       "      <td>LydiaMorley</td>\n",
       "      <td>http://steamcommunity.com/id/LydiaMorley</td>\n",
       "      <td>NaT</td>\n",
       "      <td>440</td>\n",
       "      <td>1</td>\n",
       "      <td>2</td>\n",
       "    </tr>\n",
       "  </tbody>\n",
       "</table>\n",
       "<p>59305 rows × 6 columns</p>\n",
       "</div>"
      ],
      "text/plain": [
       "                 user_id                                           user_url  \\\n",
       "0      76561197970982479  http://steamcommunity.com/profiles/76561197970...   \n",
       "1      76561197970982479  http://steamcommunity.com/profiles/76561197970...   \n",
       "2      76561197970982479  http://steamcommunity.com/profiles/76561197970...   \n",
       "3                js41637               http://steamcommunity.com/id/js41637   \n",
       "4                js41637               http://steamcommunity.com/id/js41637   \n",
       "...                  ...                                                ...   \n",
       "59300  76561198312638244  http://steamcommunity.com/profiles/76561198312...   \n",
       "59301  76561198312638244  http://steamcommunity.com/profiles/76561198312...   \n",
       "59302        LydiaMorley           http://steamcommunity.com/id/LydiaMorley   \n",
       "59303        LydiaMorley           http://steamcommunity.com/id/LydiaMorley   \n",
       "59304        LydiaMorley           http://steamcommunity.com/id/LydiaMorley   \n",
       "\n",
       "          posted  item_id  recommend  review  \n",
       "0     2011-11-05     1250          1       2  \n",
       "1     2011-07-15    22200          1       2  \n",
       "2     2011-04-21    43110          1       2  \n",
       "3     2014-06-24   251610          1       1  \n",
       "4     2013-09-08   227300          1       1  \n",
       "...          ...      ...        ...     ...  \n",
       "59300        NaT       70          1       2  \n",
       "59301        NaT   362890          1       2  \n",
       "59302        NaT   273110          1       2  \n",
       "59303        NaT      730          1       2  \n",
       "59304        NaT      440          1       2  \n",
       "\n",
       "[59305 rows x 6 columns]"
      ]
     },
     "execution_count": 40,
     "metadata": {},
     "output_type": "execute_result"
    }
   ],
   "source": [
    "reviews_desanidado"
   ]
  }
 ],
 "metadata": {
  "kernelspec": {
   "display_name": "Python 3",
   "language": "python",
   "name": "python3"
  },
  "language_info": {
   "codemirror_mode": {
    "name": "ipython",
    "version": 3
   },
   "file_extension": ".py",
   "mimetype": "text/x-python",
   "name": "python",
   "nbconvert_exporter": "python",
   "pygments_lexer": "ipython3",
   "version": "3.11.2"
  },
  "orig_nbformat": 4
 },
 "nbformat": 4,
 "nbformat_minor": 2
}
